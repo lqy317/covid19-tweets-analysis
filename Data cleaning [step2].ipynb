{
 "cells": [
  {
   "cell_type": "code",
   "execution_count": 1,
   "id": "f05ae78b-a9d1-441d-a7b8-40d4282f88ed",
   "metadata": {},
   "outputs": [],
   "source": [
    "import pandas as pd"
   ]
  },
  {
   "cell_type": "code",
   "execution_count": 2,
   "id": "d8941e07-d6e4-423c-9cdd-2a2ceb602c60",
   "metadata": {},
   "outputs": [],
   "source": [
    "# 数据集保存在同一目录下\n",
    "df = pd.read_csv('covid19_tweets.csv')"
   ]
  },
  {
   "cell_type": "code",
   "execution_count": 3,
   "id": "f75d0d52-8aed-4ab1-9f4f-023fc2bb6501",
   "metadata": {},
   "outputs": [
    {
     "name": "stdout",
     "output_type": "stream",
     "text": [
      "True\n"
     ]
    }
   ],
   "source": [
    "# 对数据集整体的清洗\n",
    "# 查看 'text' 列中是否有重复数据\n",
    "print(df['text'].duplicated().any())"
   ]
  },
  {
   "cell_type": "code",
   "execution_count": 4,
   "id": "5dc6befc-fcf9-4de4-9eef-234a87639079",
   "metadata": {},
   "outputs": [
    {
     "name": "stdout",
     "output_type": "stream",
     "text": [
      "2017      73,400 New #Coronavirus Cases in U.S., Nearing...\n",
      "2018      73,400 New #Coronavirus Cases in U.S., Nearing...\n",
      "2748      India conducted over 4.20 lakh tests in a day,...\n",
      "2832      India conducted over 4.20 lakh tests in a day,...\n",
      "2950      2,803 new #COVID19 positive cases have been re...\n",
      "                                ...                        \n",
      "177504    San Marino has no active cases of the novel co...\n",
      "177780    $SRNE $IBIO $KTOV $TNXP $HTBX $TTOO\\n\\n#sorren...\n",
      "178051    Trump’s plan to win the war with #COVID19 is t...\n",
      "178548    Seychelles has no active cases of the novel co...\n",
      "178552    This is Trump's Pandemic. #MAGA #Coronavirus #...\n",
      "Name: text, Length: 425, dtype: object\n"
     ]
    }
   ],
   "source": [
    "# 找出 'text' 列中的重复数据\n",
    "duplicates_texts = df[df['text'].duplicated()]\n",
    "print(duplicates_texts['text'])"
   ]
  },
  {
   "cell_type": "code",
   "execution_count": 5,
   "id": "0ea0b2df-e37f-448b-a838-340769a4e1b6",
   "metadata": {},
   "outputs": [],
   "source": [
    "# 去除 'text' 列中的重复数据，仅保留一条\n",
    "df_cleaned_1 = df.drop_duplicates(subset='text', keep='first')"
   ]
  },
  {
   "cell_type": "code",
   "execution_count": 6,
   "id": "48ecc0c7-b026-47a9-abae-84f430eb6df6",
   "metadata": {},
   "outputs": [
    {
     "name": "stdout",
     "output_type": "stream",
     "text": [
      "False\n"
     ]
    }
   ],
   "source": [
    "print(df_cleaned_1['text'].duplicated().any())"
   ]
  },
  {
   "cell_type": "code",
   "execution_count": 7,
   "id": "cd145d00-dd16-44cb-a095-2dbcdb30d2ee",
   "metadata": {},
   "outputs": [
    {
     "name": "stdout",
     "output_type": "stream",
     "text": [
      "                    user_name  \\\n",
      "1212                    $₱ƗԞɆ   \n",
      "2447               8min 46sec   \n",
      "2449               8min 46sec   \n",
      "2451               8min 46sec   \n",
      "2524               8min 46sec   \n",
      "...                       ...   \n",
      "159143  Whitley for President   \n",
      "161620           ZECpages Bot   \n",
      "173838        ʜᴇᴀʟᴛʜ ʙʟᴏɢ 9ᴊᴀ   \n",
      "175532                  お茶屋さん   \n",
      "177772   👍 Avritt's Favorites   \n",
      "\n",
      "                                                     text  count  \n",
      "1212    @ahmermkhan Why don't they obey restrictions p...      3  \n",
      "2447    #covid19.  #AgedCare #ReOpen #Economy Sick #So...      2  \n",
      "2449    #covid19.  #AgedCare @TheIPA's #scomo Final So...      2  \n",
      "2451    #covid19.  #AgedCare Iressponsible Fingering b...      2  \n",
      "2524    #uspoli #covid19 MAKING #Masks by @Patbagley h...      2  \n",
      "...                                                   ...    ...  \n",
      "159143  The reality is, not everybody can stay home du...      4  \n",
      "161620  An anonymous revelation. #zcash #COVID19 https...      2  \n",
      "173838  Hey, check out our website! https://t.co/0tqos...      2  \n",
      "175532  Drink Japanese tea and kill the new coronaviru...      6  \n",
      "177772  #Leading #Thoughts for July 23, 2020 https://t...      2  \n",
      "\n",
      "[143 rows x 3 columns]\n"
     ]
    }
   ],
   "source": [
    "# 针对数据集的清洗是根据研究的需要自定义的\n",
    "# 以上只展示一个例子\n",
    "# 尝试找出重复的user_name\n",
    "# 尝试仅去除重复的user_name条件下重复的text\n",
    "# 分组统计相同 user_name 发送的相同 text 的次数\n",
    "duplicate_user_texts = df.groupby(['user_name', 'text']).size().reset_index(name='count')\n",
    "\n",
    "# 过滤出重复发送的 text（count > 1）\n",
    "duplicate_user_texts = duplicate_user_texts[duplicate_user_texts['count'] > 1]\n",
    "\n",
    "# 按 user_name 排序\n",
    "duplicate_user_texts = duplicate_user_texts.sort_values(by='user_name')\n",
    "\n",
    "# 查看结果\n",
    "print(duplicate_user_texts)"
   ]
  },
  {
   "cell_type": "code",
   "execution_count": 8,
   "id": "e5b82fdc-35d8-47e2-aeb3-bb98fb4edd49",
   "metadata": {},
   "outputs": [
    {
     "name": "stdout",
     "output_type": "stream",
     "text": [
      "                     user_name               user_location  \\\n",
      "0                       ᏉᎥ☻լꂅϮ                  astroworld   \n",
      "1                Tom Basile 🇺🇸                New York, NY   \n",
      "2              Time4fisticuffs            Pewee Valley, KY   \n",
      "3                  ethel mertz        Stuck in the Middle    \n",
      "4                     DIPR-J&K           Jammu and Kashmir   \n",
      "...                        ...                         ...   \n",
      "179103  AJIMATI AbdulRahman O.             Ilorin, Nigeria   \n",
      "179104                   Jason                     Ontario   \n",
      "179105             BEEHEMOTH ⏳                   🇨🇦 Canada   \n",
      "179106           Gary DelPonte               New York City   \n",
      "179107                 TUKY II  Aliwal North, South Africa   \n",
      "\n",
      "                                         user_description  \\\n",
      "0       wednesday addams as a disney princess keepin i...   \n",
      "1       Husband, Father, Columnist & Commentator. Auth...   \n",
      "2       #Christian #Catholic #Conservative #Reagan #Re...   \n",
      "3       #Browns #Indians #ClevelandProud #[]_[] #Cavs ...   \n",
      "4       🖊️Official Twitter handle of Department of Inf...   \n",
      "...                                                   ...   \n",
      "179103    Animal Scientist|| Muslim|| Real Madrid/Chelsea   \n",
      "179104  When your cat has more baking soda than Ninja ...   \n",
      "179105  ⚒️ The Architects of Free Trade ⚒️ Really Did ...   \n",
      "179106  Global UX UI Visual Designer. StoryTeller, Mus...   \n",
      "179107  TOKELO SEKHOPA | TUKY II | LAST BORN | EISH TU...   \n",
      "\n",
      "               user_created  user_followers  user_friends  user_favourites  \\\n",
      "0       2017-05-26 05:46:42             624           950            18775   \n",
      "1       2009-04-16 20:06:23            2253          1677               24   \n",
      "2       2009-02-28 18:57:41            9275          9525             7254   \n",
      "3       2019-03-07 01:45:06             197           987             1488   \n",
      "4       2017-02-12 06:45:15          101009           168              101   \n",
      "...                     ...             ...           ...              ...   \n",
      "179103  2013-12-30 18:59:19             412          1609             1062   \n",
      "179104  2011-12-21 04:41:30             150           182             7295   \n",
      "179105  2016-07-13 17:21:59            1623          2160            98000   \n",
      "179106  2009-10-27 17:43:13            1338          1111                0   \n",
      "179107  2018-04-14 17:30:07              97          1697              566   \n",
      "\n",
      "        user_verified                 date  \\\n",
      "0               False  2020-07-25 12:27:21   \n",
      "1                True  2020-07-25 12:27:17   \n",
      "2               False  2020-07-25 12:27:14   \n",
      "3               False  2020-07-25 12:27:10   \n",
      "4               False  2020-07-25 12:27:08   \n",
      "...               ...                  ...   \n",
      "179103          False  2020-08-29 19:44:21   \n",
      "179104          False  2020-08-29 19:44:16   \n",
      "179105          False  2020-08-29 19:44:15   \n",
      "179106          False  2020-08-29 19:44:14   \n",
      "179107          False  2020-08-29 19:44:08   \n",
      "\n",
      "                                                     text  \\\n",
      "0       If I smelled the scent of hand sanitizers toda...   \n",
      "1       Hey @Yankees @YankeesPR and @MLB - wouldn't it...   \n",
      "2       @diane3443 @wdunlap @realDonaldTrump Trump nev...   \n",
      "3       @brookbanktv The one gift #COVID19 has give me...   \n",
      "4       25 July : Media Bulletin on Novel #CoronaVirus...   \n",
      "...                                                   ...   \n",
      "179103  Thanks @IamOhmai for nominating me for the @WH...   \n",
      "179104  2020! The year of insanity! Lol! #COVID19 http...   \n",
      "179105  @CTVNews A powerful painting by Juan Lucena. I...   \n",
      "179106  More than 1,200 students test positive for #CO...   \n",
      "179107  I stop when I see a Stop\\n\\n@SABCNews\\n@Izinda...   \n",
      "\n",
      "                                 hashtags               source is_retweet\\r  \n",
      "0                                     NaN   Twitter for iPhone      False\\r  \n",
      "1                                     NaN  Twitter for Android      False\\r  \n",
      "2                             ['COVID19']  Twitter for Android      False\\r  \n",
      "3                             ['COVID19']   Twitter for iPhone      False\\r  \n",
      "4       ['CoronaVirusUpdates', 'COVID19']  Twitter for Android      False\\r  \n",
      "...                                   ...                  ...          ...  \n",
      "179103                      ['WearAMask']  Twitter for Android      False\\r  \n",
      "179104                        ['COVID19']  Twitter for Android      False\\r  \n",
      "179105                                NaN      Twitter Web App      False\\r  \n",
      "179106                        ['COVID19']   Twitter for iPhone      False\\r  \n",
      "179107                                NaN  Twitter for Android      False\\r  \n",
      "\n",
      "[178779 rows x 13 columns]\n"
     ]
    }
   ],
   "source": [
    "# 删除相同 user_name 和 text 的重复记录，仅保留一条\n",
    "df_cleaned = df.drop_duplicates(subset=['user_name', 'text'], keep='first')\n",
    "\n",
    "# 查看结果\n",
    "print(df_cleaned)"
   ]
  },
  {
   "cell_type": "code",
   "execution_count": 9,
   "id": "c6913ded-ef0b-49bf-90d8-35ff7d904f76",
   "metadata": {},
   "outputs": [],
   "source": [
    "# 对文本的清洗\n",
    "import re"
   ]
  },
  {
   "cell_type": "code",
   "execution_count": 10,
   "id": "1a94248c-b2d7-497a-8dde-b2c6d326cea9",
   "metadata": {},
   "outputs": [],
   "source": [
    "# 定义清洗函数\n",
    "def clean_text(text):\n",
    "    # 移除 @提及\n",
    "    text = re.sub(r'@\\w+', ' ', text)\n",
    "    \n",
    "    # 移除 URL\n",
    "    text = re.sub(r'http\\S+|www\\.\\S+', ' ', text)\n",
    "    \n",
    "    # 移除表情符号和其他特殊字符，并确保单词之间保留空格\n",
    "    text = re.sub(r'[^A-Za-z0-9\\s]+', ' ', text)  # 替换非字母、数字和空格字符为一个空格\n",
    "    \n",
    "    # 移除多余的空格\n",
    "    text = re.sub(r'\\s+', ' ', text).strip()\n",
    "    \n",
    "    # 移除 emoji\n",
    "    text = text.encode('ascii', 'ignore').decode('ascii')\n",
    "    \n",
    "    return text"
   ]
  },
  {
   "cell_type": "code",
   "execution_count": 11,
   "id": "2622d382-a5eb-4c23-a35b-04939e3d9025",
   "metadata": {},
   "outputs": [],
   "source": [
    "# 应用清洗函数到 'text' 列\n",
    "df_cleaned = df_cleaned.copy()\n",
    "df_cleaned['text'] = df_cleaned['text'].apply(clean_text)"
   ]
  },
  {
   "cell_type": "code",
   "execution_count": 12,
   "id": "dbabc494-1636-4619-9db4-054ef086cd7b",
   "metadata": {},
   "outputs": [
    {
     "name": "stdout",
     "output_type": "stream",
     "text": [
      "是否存在空值: False\n"
     ]
    }
   ],
   "source": [
    "# 检测 text 列是否有空值\n",
    "has_null = df_cleaned['text'].isnull().any()  # 检查是否存在空值\n",
    "print(f\"是否存在空值: {has_null}\")"
   ]
  },
  {
   "cell_type": "code",
   "execution_count": 13,
   "id": "442adf41-fae9-4781-8a02-fe6b48c61671",
   "metadata": {},
   "outputs": [
    {
     "name": "stdout",
     "output_type": "stream",
     "text": [
      "是否存在只包含空格的行: True\n"
     ]
    }
   ],
   "source": [
    "# 检测是否有只包含空格的行\n",
    "only_spaces = df_cleaned['text'].apply(lambda x: isinstance(x, str) and x.strip() == '')\n",
    "\n",
    "# 检查是否存在这样的行\n",
    "has_only_spaces = only_spaces.any()\n",
    "print(f\"是否存在只包含空格的行: {has_only_spaces}\")"
   ]
  },
  {
   "cell_type": "code",
   "execution_count": 14,
   "id": "c1867e82-ce3d-44d9-bb33-cd8aac082c98",
   "metadata": {},
   "outputs": [],
   "source": [
    "# 删除仅包含空格或为空的行\n",
    "df_cleaned_final = df_cleaned[~df_cleaned['text'].apply(lambda x: isinstance(x, str) and x.strip() == '')]"
   ]
  },
  {
   "cell_type": "code",
   "execution_count": 15,
   "id": "b040013f-6592-4d1d-8e2d-607c27b6e757",
   "metadata": {},
   "outputs": [
    {
     "name": "stdout",
     "output_type": "stream",
     "text": [
      "是否存在空值: False\n",
      "是否存在只包含空格的行: False\n"
     ]
    }
   ],
   "source": [
    "# 检测 text 列是否有空值\n",
    "has_null = df_cleaned_final['text'].isnull().any()  # 检查是否存在空值\n",
    "print(f\"是否存在空值: {has_null}\")\n",
    "# 检测是否有只包含空格的行\n",
    "only_spaces = df_cleaned_final['text'].apply(lambda x: isinstance(x, str) and x.strip() == '')\n",
    "# 检查是否存在这样的行\n",
    "has_only_spaces = only_spaces.any()\n",
    "print(f\"是否存在只包含空格的行: {has_only_spaces}\")"
   ]
  },
  {
   "cell_type": "code",
   "execution_count": 16,
   "id": "d65f1c87-6be8-4377-ac7c-6ddb5c57f39e",
   "metadata": {},
   "outputs": [],
   "source": [
    "df_cleaned_final.to_csv('covid19_tweets_cleaned.csv')"
   ]
  },
  {
   "cell_type": "code",
   "execution_count": 17,
   "id": "6de0af0a-da4f-4e4f-b04c-f59f0d8e94f1",
   "metadata": {},
   "outputs": [],
   "source": [
    "df_cleaned_final.to_excel('covid19_tweets_cleaned.xlsx')"
   ]
  },
  {
   "cell_type": "markdown",
   "id": "74ac7d62-3324-4e99-9685-51b84dcd44b1",
   "metadata": {},
   "source": [
    "<font face=\"Arial\" size=\"5\" color=\"black\">从英文文本生成3-gram：</font>"
   ]
  },
  {
   "cell_type": "code",
   "execution_count": 18,
   "id": "83c5e95f-b5d1-4d50-96d6-8225d3b3e032",
   "metadata": {},
   "outputs": [],
   "source": [
    "from nltk import ngrams # 如果没有这个包要先安装"
   ]
  },
  {
   "cell_type": "code",
   "execution_count": 19,
   "id": "943a0fd4-538a-475e-bdc9-de5fb3acaeb7",
   "metadata": {},
   "outputs": [
    {
     "name": "stdout",
     "output_type": "stream",
     "text": [
      "If I smelled the scent of hand sanitizers today on someone in the past I would think they were so intoxicated that\n",
      "('If', 'I', 'smelled')\n",
      "('I', 'smelled', 'the')\n",
      "('smelled', 'the', 'scent')\n",
      "('the', 'scent', 'of')\n",
      "('scent', 'of', 'hand')\n",
      "('of', 'hand', 'sanitizers')\n",
      "('hand', 'sanitizers', 'today')\n",
      "('sanitizers', 'today', 'on')\n",
      "('today', 'on', 'someone')\n",
      "('on', 'someone', 'in')\n",
      "('someone', 'in', 'the')\n",
      "('in', 'the', 'past')\n",
      "('the', 'past', 'I')\n",
      "('past', 'I', 'would')\n",
      "('I', 'would', 'think')\n",
      "('would', 'think', 'they')\n",
      "('think', 'they', 'were')\n",
      "('they', 'were', 'so')\n",
      "('were', 'so', 'intoxicated')\n",
      "('so', 'intoxicated', 'that')\n"
     ]
    }
   ],
   "source": [
    "# 选择 text 列的任意一行数据（例如第1行）\n",
    "sample_text = df_cleaned['text'].iloc[0]\n",
    "\n",
    "# 生成 3-gram\n",
    "trigrams = list(ngrams(sample_text.split(), 3))\n",
    "\n",
    "# 打印原始文本\n",
    "print(df_cleaned['text'].iloc[0])\n",
    "\n",
    "# 打印 3-gram 结果\n",
    "for trigram in trigrams:\n",
    "    print(trigram)"
   ]
  },
  {
   "cell_type": "code",
   "execution_count": 21,
   "id": "d9d38bc0-1489-45fe-8228-1ce2219178d3",
   "metadata": {},
   "outputs": [],
   "source": [
    "# 查看文本长度分布\n",
    "import nltk\n",
    "# 需要下载分词所用的资源包\n",
    "#nltk.download('punkt')\n",
    "#nltk.download('punkt_tab')"
   ]
  },
  {
   "cell_type": "code",
   "execution_count": 22,
   "id": "23dc9871-3ce1-42ad-ae00-82d97bbc75f1",
   "metadata": {},
   "outputs": [],
   "source": [
    "# 使用 NLTK 进行分词，并统计每条文本的 token 数量\n",
    "df_cleaned['token_count'] = df_cleaned['text'].apply(lambda x: len(nltk.word_tokenize(x)))"
   ]
  },
  {
   "cell_type": "code",
   "execution_count": 23,
   "id": "2bfd88e9-17cb-4951-8de8-3fd6a526555a",
   "metadata": {},
   "outputs": [
    {
     "name": "stdout",
     "output_type": "stream",
     "text": [
      "                                                     text  token_count\n",
      "0       If I smelled the scent of hand sanitizers toda...           22\n",
      "1       Hey and wouldn t it have made more sense to ha...           19\n",
      "2       Trump never once claimed COVID19 was a hoax We...           15\n",
      "3       The one gift COVID19 has give me is an appreci...           19\n",
      "4       25 July Media Bulletin on Novel CoronaVirusUpd...            8\n",
      "...                                                   ...          ...\n",
      "179103  Thanks for nominating me for the WearAMask cha...           10\n",
      "179104              2020 The year of insanity Lol COVID19            7\n",
      "179105  A powerful painting by Juan Lucena It s a trib...           21\n",
      "179106  More than 1 200 students test positive for COV...           14\n",
      "179107                           I stop when I see a Stop            7\n",
      "\n",
      "[178779 rows x 2 columns]\n"
     ]
    },
    {
     "data": {
      "image/png": "[encoded data removed]",
      "text/plain": [
       "<Figure size 800x500 with 1 Axes>"
      ]
     },
     "metadata": {},
     "output_type": "display_data"
    }
   ],
   "source": [
    "import matplotlib.pyplot as plt\n",
    "\n",
    "# 查看 token 分布\n",
    "print(df_cleaned[['text', 'token_count']])\n",
    "\n",
    "# 指定 SimHei 字体（黑体），常见于 Windows 系统\n",
    "plt.rcParams['font.sans-serif'] = ['Arial']  # 用黑体显示\n",
    "plt.rcParams['axes.unicode_minus'] = False  # 解决负号显示问题\n",
    "# 绘制 tokens 分布的直方图\n",
    "plt.figure(figsize=(8, 5))\n",
    "plt.hist(df_cleaned['token_count'], bins=10, edgecolor='black')\n",
    "plt.title('Token histgram')\n",
    "plt.xlabel('Token count')\n",
    "plt.ylabel('frequency')\n",
    "plt.show()"
   ]
  },
  {
   "cell_type": "markdown",
   "id": "db3329c7-bcae-48d0-855e-6587963ed0b9",
   "metadata": {},
   "source": [
    "<font face=\"Arial\" size=\"5\" color=\"black\">去除无关文本：</font>"
   ]
  },
  {
   "cell_type": "code",
   "execution_count": 24,
   "id": "bd882d08-f867-41da-aa49-8f74b64b14f5",
   "metadata": {},
   "outputs": [],
   "source": [
    "# 需要自己看文本根据keyword删除无关文本"
   ]
  },
  {
   "cell_type": "markdown",
   "id": "fdea1610-8866-4846-81a7-be0f7bddbb29",
   "metadata": {},
   "source": [
    "<font face=\"Arial\" size=\"5\" color=\"black\">进行各种NLP任务之前的预处理：</font>"
   ]
  },
  {
   "cell_type": "code",
   "execution_count": 25,
   "id": "4ce0bc0d-e009-4835-a2e6-346190389223",
   "metadata": {},
   "outputs": [],
   "source": [
    "# 去除停用词\n",
    "# https://github.com/igorbrigadir/stopwords\n",
    "# 这个网站包含了大部分英文文本常用的停用词列表"
   ]
  },
  {
   "cell_type": "code",
   "execution_count": 26,
   "id": "59c0cc91-8bda-4222-b323-c961d3b5ae77",
   "metadata": {},
   "outputs": [],
   "source": [
    "# 读取停用词文件\n",
    "with open('scikitlearn.txt', 'r') as file:\n",
    "    stopwords = file.read().splitlines()"
   ]
  },
  {
   "cell_type": "code",
   "execution_count": 27,
   "id": "fa3849b0-b7b6-4a59-8c7d-3df066ba9019",
   "metadata": {},
   "outputs": [
    {
     "name": "stdout",
     "output_type": "stream",
     "text": [
      "['a', 'about', 'above', 'across', 'after', 'afterwards', 'again', 'against', 'all', 'almost']\n"
     ]
    }
   ],
   "source": [
    "print(stopwords[:10])  # 查看前10个停用词"
   ]
  },
  {
   "cell_type": "code",
   "execution_count": 28,
   "id": "46a2d744-46ba-45a7-a8a0-446312fba76d",
   "metadata": {},
   "outputs": [],
   "source": [
    "# 定义一个函数来移除停用词\n",
    "def remove_stopwords(text):\n",
    "    return ' '.join([word for word in text.split() if word.lower() not in stopwords])"
   ]
  },
  {
   "cell_type": "code",
   "execution_count": 29,
   "id": "9e60ed1a-b662-4f48-b69c-2fe736f5feae",
   "metadata": {},
   "outputs": [],
   "source": [
    "# 应用函数到数据集的 text 列\n",
    "df_cleaned_final_1 = df_cleaned_final.copy()\n",
    "df_cleaned_final_1['cleaned_text'] = df_cleaned_final_1['text'].apply(remove_stopwords)"
   ]
  },
  {
   "cell_type": "code",
   "execution_count": 30,
   "id": "c1146283-adbc-4489-ac07-4e98acbff71e",
   "metadata": {},
   "outputs": [
    {
     "name": "stdout",
     "output_type": "stream",
     "text": [
      "是否存在空值: False\n"
     ]
    }
   ],
   "source": [
    "# 检测 text 列是否有空值\n",
    "has_null = df_cleaned_final_1['cleaned_text'].isnull().any()  # 检查是否存在空值\n",
    "print(f\"是否存在空值: {has_null}\")"
   ]
  },
  {
   "cell_type": "code",
   "execution_count": 31,
   "id": "afd6e945-a37e-4e60-8e68-4318384edcfd",
   "metadata": {},
   "outputs": [
    {
     "name": "stdout",
     "output_type": "stream",
     "text": [
      "是否存在只包含空格的行: True\n"
     ]
    }
   ],
   "source": [
    "# 检测是否有只包含空格的行\n",
    "only_spaces_1 = df_cleaned_final_1['cleaned_text'].apply(lambda x: isinstance(x, str) and x.strip() == '')\n",
    "\n",
    "# 检查是否存在这样的行\n",
    "has_only_spaces_1 = only_spaces_1.any()\n",
    "print(f\"是否存在只包含空格的行: {has_only_spaces_1}\")"
   ]
  },
  {
   "cell_type": "code",
   "execution_count": 32,
   "id": "f2393cf6-cced-44a5-914a-274391192823",
   "metadata": {},
   "outputs": [],
   "source": [
    "# 删除仅包含空格或为空的行\n",
    "df_cleaned_final_1 = df_cleaned_final_1[~df_cleaned_final_1['cleaned_text'].apply(lambda x: isinstance(x, str) and x.strip() == '')]"
   ]
  },
  {
   "cell_type": "code",
   "execution_count": 33,
   "id": "fee13a17-7402-4d94-95e9-edbe7e244706",
   "metadata": {},
   "outputs": [
    {
     "name": "stdout",
     "output_type": "stream",
     "text": [
      "是否存在只包含空格的行: False\n"
     ]
    }
   ],
   "source": [
    "# 检测是否有只包含空格的行\n",
    "only_spaces_1 = df_cleaned_final_1['cleaned_text'].apply(lambda x: isinstance(x, str) and x.strip() == '')\n",
    "\n",
    "# 检查是否存在这样的行\n",
    "has_only_spaces_1 = only_spaces_1.any()\n",
    "print(f\"是否存在只包含空格的行: {has_only_spaces_1}\")"
   ]
  },
  {
   "cell_type": "code",
   "execution_count": 34,
   "id": "d76bdf85-5d2e-4fff-a1b5-9fcd776208bf",
   "metadata": {},
   "outputs": [],
   "source": [
    "df_cleaned_final_1.to_csv('covid19_tweets_cleaned_final.csv')"
   ]
  },
  {
   "cell_type": "code",
   "execution_count": null,
   "id": "3dcafa28-386c-4a54-a000-c279cc3e0739",
   "metadata": {},
   "outputs": [],
   "source": []
  },
  {
   "cell_type": "code",
   "execution_count": null,
   "id": "07a7b9b4-4818-49a6-b8ea-c92255530058",
   "metadata": {},
   "outputs": [],
   "source": []
  }
 ],
 "metadata": {
  "kernelspec": {
   "display_name": "Python 3 (ipykernel)",
   "language": "python",
   "name": "python3"
  },
  "language_info": {
   "codemirror_mode": {
    "name": "ipython",
    "version": 3
   },
   "file_extension": ".py",
   "mimetype": "text/x-python",
   "name": "python",
   "nbconvert_exporter": "python",
   "pygments_lexer": "ipython3",
   "version": "3.10.11"
  }
 },
 "nbformat": 4,
 "nbformat_minor": 5
}
